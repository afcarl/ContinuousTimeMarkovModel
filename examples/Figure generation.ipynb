{
 "cells": [
  {
   "cell_type": "code",
   "execution_count": 10,
   "metadata": {
    "collapsed": true
   },
   "outputs": [],
   "source": [
    "import matplotlib.pylab as plt\n",
    "import numpy as np\n",
    "from pickle import load\n",
    "import pymc3"
   ]
  },
  {
   "cell_type": "markdown",
   "metadata": {},
   "source": [
    "## Read in variables"
   ]
  },
  {
   "cell_type": "code",
   "execution_count": 11,
   "metadata": {
    "collapsed": false
   },
   "outputs": [],
   "source": [
    "inFile = open('trace_n100_genParams.pkl','rb')\n",
    "trace = load(inFile)\n",
    "inFile.close()"
   ]
  },
  {
   "cell_type": "code",
   "execution_count": 30,
   "metadata": {
    "collapsed": false
   },
   "outputs": [],
   "source": [
    "datadir = '../data/small_sample/'\n",
    "infile = open(datadir+'T.pkl','rb')\n",
    "T = load(infile)\n",
    "infile.close()\n",
    "infile = open(datadir+'obs_jumps.pkl','rb')\n",
    "obs_jumps = load(infile)                                                                                                                                                                          \n",
    "infile.close()\n",
    "infile = open(datadir+'O.pkl','rb')\n",
    "O = load(infile)\n",
    "infile.close()"
   ]
  },
  {
   "cell_type": "code",
   "execution_count": 31,
   "metadata": {
    "collapsed": true
   },
   "outputs": [],
   "source": [
    "newN = 100\n",
    "T = T[:newN]\n",
    "nObs = T.sum()\n",
    "obs_jumps = obs_jumps[0:nObs] \n",
    "O = O[0:nObs]"
   ]
  },
  {
   "cell_type": "code",
   "execution_count": 32,
   "metadata": {
    "collapsed": false
   },
   "outputs": [],
   "source": [
    "pi = trace['pi']\n",
    "Q = trace['Q']\n",
    "S = trace['S']\n",
    "B0 = trace['B0']\n",
    "B = trace['B']\n",
    "X = trace['X']\n",
    "Z = trace['Z']\n",
    "L = trace['L']"
   ]
  },
  {
   "cell_type": "code",
   "execution_count": 33,
   "metadata": {
    "collapsed": false
   },
   "outputs": [],
   "source": [
    "N = T.shape[0] # Number of patients\n",
    "M = pi[0].shape[0] # Number of hidden states                                                                                                                                                   \n",
    "K = Z[0].shape[0] # Number of comorbidities\n",
    "D = Z[0].shape[1] # Number of claims"
   ]
  },
  {
   "cell_type": "code",
   "execution_count": 34,
   "metadata": {
    "collapsed": false
   },
   "outputs": [],
   "source": [
    "Sbin = np.vstack([np.bincount(S[i],minlength=4)/float(len(S[i])) for i in range(len(S))])\n",
    "zeroIndices = np.roll(T.cumsum(),1)\n",
    "zeroIndices[0] = 0\n",
    "pibar = np.vstack([np.bincount(S[i][zeroIndices],minlength=M)/float(zeroIndices.shape[0]) for i in range(len(S))])\n",
    "SEnd = np.vstack([np.bincount(S[i][zeroIndices-1],minlength=M)/float(zeroIndices.shape[0]) for i in range(len(S))])\n",
    "XChanges = np.insert(1-(1-(X[:,1:]-X[:,:-1])).prod(axis=2),0,0,axis=1)\n",
    "XChanges.T[zeroIndices] = 0\n",
    "XChanges[XChanges.nonzero()] = XChanges[XChanges.nonzero()]/XChanges[XChanges.nonzero()]\n",
    "XChanges = XChanges.sum(axis=1)/float(N)"
   ]
  },
  {
   "cell_type": "markdown",
   "metadata": {},
   "source": [
    "## Probability of Current and Future States"
   ]
  },
  {
   "cell_type": "code",
   "execution_count": 42,
   "metadata": {
    "collapsed": false
   },
   "outputs": [],
   "source": [
    "nPick=10\n",
    "tPick = 1\n",
    "ntStart = zeroIndices[nPick]\n",
    "curObs = ntStart + tPick+1"
   ]
  },
  {
   "cell_type": "code",
   "execution_count": 44,
   "metadata": {
    "collapsed": false
   },
   "outputs": [],
   "source": [
    "#print obs_jumps[ntStart:ntStart+10]\n",
    "#print O[ntStart:ntStart+10]\n",
    "#print X[-1][ntStart:ntStart+10]"
   ]
  },
  {
   "cell_type": "code",
   "execution_count": null,
   "metadata": {
    "collapsed": false
   },
   "outputs": [],
   "source": []
  },
  {
   "cell_type": "code",
   "execution_count": 45,
   "metadata": {
    "collapsed": true
   },
   "outputs": [],
   "source": [
    "#OK, do this properly later"
   ]
  },
  {
   "cell_type": "code",
   "execution_count": 48,
   "metadata": {
    "collapsed": true
   },
   "outputs": [],
   "source": [
    "likelihood_S_0_1 = np.array([9.53625347e-01,   1.86315267e-02,   1.44532352e-03, 3.14356015e-04])"
   ]
  },
  {
   "cell_type": "code",
   "execution_count": 53,
   "metadata": {
    "collapsed": false
   },
   "outputs": [],
   "source": [
    "likelihood_X_0_1 = np.array([[  2.56550334e-14,   1.21956409e-04],\n",
    "\n",
    "       [ 1.63014965e-04,1.63011786e-04],\n",
    "\n",
    "       [  1.42531099e-04, 4.28589290e-05],\n",
    "\n",
    "       [  1.27941508e-09,9.56828390e-05]])\n",
    "likelihood_X_0_1 = likelihood_X_0_1[:,1]/likelihood_X_0_1.sum(axis=1)"
   ]
  },
  {
   "cell_type": "code",
   "execution_count": 54,
   "metadata": {
    "collapsed": false
   },
   "outputs": [
    {
     "name": "stdout",
     "output_type": "stream",
     "text": [
      "[  9.53625347e-01   1.86315267e-02   1.44532352e-03   3.14356015e-04]\n",
      "[ 1.          0.49999512  0.23118249  0.99998663]\n"
     ]
    }
   ],
   "source": [
    "print likelihood_S_0_1\n",
    "print likelihood_X_0_1"
   ]
  },
  {
   "cell_type": "code",
   "execution_count": null,
   "metadata": {
    "collapsed": true
   },
   "outputs": [],
   "source": []
  }
 ],
 "metadata": {
  "kernelspec": {
   "display_name": "Python 2",
   "language": "python",
   "name": "python2"
  },
  "language_info": {
   "codemirror_mode": {
    "name": "ipython",
    "version": 2
   },
   "file_extension": ".py",
   "mimetype": "text/x-python",
   "name": "python",
   "nbconvert_exporter": "python",
   "pygments_lexer": "ipython2",
   "version": "2.7.10"
  }
 },
 "nbformat": 4,
 "nbformat_minor": 0
}
